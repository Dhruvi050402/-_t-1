{
 "cells": [
  {
   "cell_type": "code",
   "execution_count": null,
   "id": "282e0800-2818-41d4-9e44-b311dd6f22a9",
   "metadata": {},
   "outputs": [],
   "source": [
    "TASK 1\n",
    "\n",
    "TITANIC CLASSIFICATION"
   ]
  },
  {
   "cell_type": "code",
   "execution_count": 1,
   "id": "54ce1d00-7720-4204-be33-1b4984d0d398",
   "metadata": {},
   "outputs": [],
   "source": [
    "#import all the liabraries\n",
    "\n",
    "import pandas as pd\n",
    "from sklearn.model_selection import train_test_split\n",
    "from sklearn.neighbors import KNeighborsClassifier\n",
    "from sklearn.preprocessing import LabelEncoder\n",
    "from sklearn.metrics import accuracy_score, confusion_matrix, ConfusionMatrixDisplay ,f1_score, precision_score, recall_score, classification_report "
   ]
  },
  {
   "cell_type": "code",
   "execution_count": 2,
   "id": "067e1e29-44dd-4665-aff8-745d2b3e4478",
   "metadata": {},
   "outputs": [
    {
     "data": {
      "text/html": [
       "<div>\n",
       "<style scoped>\n",
       "    .dataframe tbody tr th:only-of-type {\n",
       "        vertical-align: middle;\n",
       "    }\n",
       "\n",
       "    .dataframe tbody tr th {\n",
       "        vertical-align: top;\n",
       "    }\n",
       "\n",
       "    .dataframe thead th {\n",
       "        text-align: right;\n",
       "    }\n",
       "</style>\n",
       "<table border=\"1\" class=\"dataframe\">\n",
       "  <thead>\n",
       "    <tr style=\"text-align: right;\">\n",
       "      <th></th>\n",
       "      <th>PassengerId</th>\n",
       "      <th>Survived</th>\n",
       "      <th>Pclass</th>\n",
       "      <th>Name</th>\n",
       "      <th>Sex</th>\n",
       "      <th>Age</th>\n",
       "      <th>SibSp</th>\n",
       "      <th>Parch</th>\n",
       "      <th>Ticket</th>\n",
       "      <th>Fare</th>\n",
       "      <th>Cabin</th>\n",
       "      <th>Embarked</th>\n",
       "    </tr>\n",
       "  </thead>\n",
       "  <tbody>\n",
       "    <tr>\n",
       "      <th>0</th>\n",
       "      <td>1</td>\n",
       "      <td>0</td>\n",
       "      <td>3</td>\n",
       "      <td>Braund, Mr. Owen Harris</td>\n",
       "      <td>male</td>\n",
       "      <td>22.0</td>\n",
       "      <td>1</td>\n",
       "      <td>0</td>\n",
       "      <td>A/5 21171</td>\n",
       "      <td>7.2500</td>\n",
       "      <td>NaN</td>\n",
       "      <td>S</td>\n",
       "    </tr>\n",
       "    <tr>\n",
       "      <th>1</th>\n",
       "      <td>2</td>\n",
       "      <td>1</td>\n",
       "      <td>1</td>\n",
       "      <td>Cumings, Mrs. John Bradley (Florence Briggs Th...</td>\n",
       "      <td>female</td>\n",
       "      <td>38.0</td>\n",
       "      <td>1</td>\n",
       "      <td>0</td>\n",
       "      <td>PC 17599</td>\n",
       "      <td>71.2833</td>\n",
       "      <td>C85</td>\n",
       "      <td>C</td>\n",
       "    </tr>\n",
       "    <tr>\n",
       "      <th>2</th>\n",
       "      <td>3</td>\n",
       "      <td>1</td>\n",
       "      <td>3</td>\n",
       "      <td>Heikkinen, Miss. Laina</td>\n",
       "      <td>female</td>\n",
       "      <td>26.0</td>\n",
       "      <td>0</td>\n",
       "      <td>0</td>\n",
       "      <td>STON/O2. 3101282</td>\n",
       "      <td>7.9250</td>\n",
       "      <td>NaN</td>\n",
       "      <td>S</td>\n",
       "    </tr>\n",
       "    <tr>\n",
       "      <th>3</th>\n",
       "      <td>4</td>\n",
       "      <td>1</td>\n",
       "      <td>1</td>\n",
       "      <td>Futrelle, Mrs. Jacques Heath (Lily May Peel)</td>\n",
       "      <td>female</td>\n",
       "      <td>35.0</td>\n",
       "      <td>1</td>\n",
       "      <td>0</td>\n",
       "      <td>113803</td>\n",
       "      <td>53.1000</td>\n",
       "      <td>C123</td>\n",
       "      <td>S</td>\n",
       "    </tr>\n",
       "    <tr>\n",
       "      <th>4</th>\n",
       "      <td>5</td>\n",
       "      <td>0</td>\n",
       "      <td>3</td>\n",
       "      <td>Allen, Mr. William Henry</td>\n",
       "      <td>male</td>\n",
       "      <td>35.0</td>\n",
       "      <td>0</td>\n",
       "      <td>0</td>\n",
       "      <td>373450</td>\n",
       "      <td>8.0500</td>\n",
       "      <td>NaN</td>\n",
       "      <td>S</td>\n",
       "    </tr>\n",
       "    <tr>\n",
       "      <th>...</th>\n",
       "      <td>...</td>\n",
       "      <td>...</td>\n",
       "      <td>...</td>\n",
       "      <td>...</td>\n",
       "      <td>...</td>\n",
       "      <td>...</td>\n",
       "      <td>...</td>\n",
       "      <td>...</td>\n",
       "      <td>...</td>\n",
       "      <td>...</td>\n",
       "      <td>...</td>\n",
       "      <td>...</td>\n",
       "    </tr>\n",
       "    <tr>\n",
       "      <th>886</th>\n",
       "      <td>887</td>\n",
       "      <td>0</td>\n",
       "      <td>2</td>\n",
       "      <td>Montvila, Rev. Juozas</td>\n",
       "      <td>male</td>\n",
       "      <td>27.0</td>\n",
       "      <td>0</td>\n",
       "      <td>0</td>\n",
       "      <td>211536</td>\n",
       "      <td>13.0000</td>\n",
       "      <td>NaN</td>\n",
       "      <td>S</td>\n",
       "    </tr>\n",
       "    <tr>\n",
       "      <th>887</th>\n",
       "      <td>888</td>\n",
       "      <td>1</td>\n",
       "      <td>1</td>\n",
       "      <td>Graham, Miss. Margaret Edith</td>\n",
       "      <td>female</td>\n",
       "      <td>19.0</td>\n",
       "      <td>0</td>\n",
       "      <td>0</td>\n",
       "      <td>112053</td>\n",
       "      <td>30.0000</td>\n",
       "      <td>B42</td>\n",
       "      <td>S</td>\n",
       "    </tr>\n",
       "    <tr>\n",
       "      <th>888</th>\n",
       "      <td>889</td>\n",
       "      <td>0</td>\n",
       "      <td>3</td>\n",
       "      <td>Johnston, Miss. Catherine Helen \"Carrie\"</td>\n",
       "      <td>female</td>\n",
       "      <td>NaN</td>\n",
       "      <td>1</td>\n",
       "      <td>2</td>\n",
       "      <td>W./C. 6607</td>\n",
       "      <td>23.4500</td>\n",
       "      <td>NaN</td>\n",
       "      <td>S</td>\n",
       "    </tr>\n",
       "    <tr>\n",
       "      <th>889</th>\n",
       "      <td>890</td>\n",
       "      <td>1</td>\n",
       "      <td>1</td>\n",
       "      <td>Behr, Mr. Karl Howell</td>\n",
       "      <td>male</td>\n",
       "      <td>26.0</td>\n",
       "      <td>0</td>\n",
       "      <td>0</td>\n",
       "      <td>111369</td>\n",
       "      <td>30.0000</td>\n",
       "      <td>C148</td>\n",
       "      <td>C</td>\n",
       "    </tr>\n",
       "    <tr>\n",
       "      <th>890</th>\n",
       "      <td>891</td>\n",
       "      <td>0</td>\n",
       "      <td>3</td>\n",
       "      <td>Dooley, Mr. Patrick</td>\n",
       "      <td>male</td>\n",
       "      <td>32.0</td>\n",
       "      <td>0</td>\n",
       "      <td>0</td>\n",
       "      <td>370376</td>\n",
       "      <td>7.7500</td>\n",
       "      <td>NaN</td>\n",
       "      <td>Q</td>\n",
       "    </tr>\n",
       "  </tbody>\n",
       "</table>\n",
       "<p>891 rows × 12 columns</p>\n",
       "</div>"
      ],
      "text/plain": [
       "     PassengerId  Survived  Pclass  \\\n",
       "0              1         0       3   \n",
       "1              2         1       1   \n",
       "2              3         1       3   \n",
       "3              4         1       1   \n",
       "4              5         0       3   \n",
       "..           ...       ...     ...   \n",
       "886          887         0       2   \n",
       "887          888         1       1   \n",
       "888          889         0       3   \n",
       "889          890         1       1   \n",
       "890          891         0       3   \n",
       "\n",
       "                                                  Name     Sex   Age  SibSp  \\\n",
       "0                              Braund, Mr. Owen Harris    male  22.0      1   \n",
       "1    Cumings, Mrs. John Bradley (Florence Briggs Th...  female  38.0      1   \n",
       "2                               Heikkinen, Miss. Laina  female  26.0      0   \n",
       "3         Futrelle, Mrs. Jacques Heath (Lily May Peel)  female  35.0      1   \n",
       "4                             Allen, Mr. William Henry    male  35.0      0   \n",
       "..                                                 ...     ...   ...    ...   \n",
       "886                              Montvila, Rev. Juozas    male  27.0      0   \n",
       "887                       Graham, Miss. Margaret Edith  female  19.0      0   \n",
       "888           Johnston, Miss. Catherine Helen \"Carrie\"  female   NaN      1   \n",
       "889                              Behr, Mr. Karl Howell    male  26.0      0   \n",
       "890                                Dooley, Mr. Patrick    male  32.0      0   \n",
       "\n",
       "     Parch            Ticket     Fare Cabin Embarked  \n",
       "0        0         A/5 21171   7.2500   NaN        S  \n",
       "1        0          PC 17599  71.2833   C85        C  \n",
       "2        0  STON/O2. 3101282   7.9250   NaN        S  \n",
       "3        0            113803  53.1000  C123        S  \n",
       "4        0            373450   8.0500   NaN        S  \n",
       "..     ...               ...      ...   ...      ...  \n",
       "886      0            211536  13.0000   NaN        S  \n",
       "887      0            112053  30.0000   B42        S  \n",
       "888      2        W./C. 6607  23.4500   NaN        S  \n",
       "889      0            111369  30.0000  C148        C  \n",
       "890      0            370376   7.7500   NaN        Q  \n",
       "\n",
       "[891 rows x 12 columns]"
      ]
     },
     "execution_count": 2,
     "metadata": {},
     "output_type": "execute_result"
    }
   ],
   "source": [
    "#reading/loading the data\n",
    "\n",
    "titanic_csv = pd.read_csv('C:/Users/DHRUVI/Downloads/titanic.csv')\n",
    "titanic_csv"
   ]
  },
  {
   "cell_type": "code",
   "execution_count": 4,
   "id": "15996956-bda4-4c1c-8fbe-12f7976b73cc",
   "metadata": {},
   "outputs": [
    {
     "data": {
      "text/plain": [
       "array([[  1,   0,   3],\n",
       "       [  2,   1,   1],\n",
       "       [  3,   1,   3],\n",
       "       ...,\n",
       "       [889,   0,   3],\n",
       "       [890,   1,   1],\n",
       "       [891,   0,   3]], dtype=int64)"
      ]
     },
     "execution_count": 4,
     "metadata": {},
     "output_type": "execute_result"
    }
   ],
   "source": [
    "x = titanic_csv.iloc[:,0:3].values\n",
    "x"
   ]
  },
  {
   "cell_type": "code",
   "execution_count": 8,
   "id": "f0b5048b-edcb-4711-a4b3-fd564925cb4d",
   "metadata": {},
   "outputs": [
    {
     "name": "stdout",
     "output_type": "stream",
     "text": [
      "['male' 'female' 'female' 'female' 'male' 'male' 'male' 'male' 'female'\n",
      " 'female' 'female' 'female' 'male' 'male' 'female' 'female' 'male' 'male'\n",
      " 'female' 'female' 'male' 'male' 'female' 'male' 'female' 'female' 'male'\n",
      " 'male' 'female' 'male' 'male' 'female' 'female' 'male' 'male' 'male'\n",
      " 'male' 'male' 'female' 'female' 'female' 'female' 'male' 'female'\n",
      " 'female' 'male' 'male' 'female' 'male' 'female' 'male' 'male' 'female'\n",
      " 'female' 'male' 'male' 'female' 'male' 'female' 'male' 'male' 'female'\n",
      " 'male' 'male' 'male' 'male' 'female' 'male' 'female' 'male' 'male'\n",
      " 'female' 'male' 'male' 'male' 'male' 'male' 'male' 'male' 'female' 'male'\n",
      " 'male' 'female' 'male' 'female' 'female' 'male' 'male' 'female' 'male'\n",
      " 'male' 'male' 'male' 'male' 'male' 'male' 'male' 'male' 'female' 'male'\n",
      " 'female' 'male' 'male' 'male' 'male' 'male' 'female' 'male' 'male'\n",
      " 'female' 'male' 'female' 'male' 'female' 'female' 'male' 'male' 'male'\n",
      " 'male' 'female' 'male' 'male' 'male' 'female' 'male' 'male' 'male' 'male'\n",
      " 'female' 'male' 'male' 'male' 'female' 'female' 'male' 'male' 'female'\n",
      " 'male' 'male' 'male' 'female' 'female' 'female' 'male' 'male' 'male'\n",
      " 'male' 'female' 'male' 'male' 'male' 'female' 'male' 'male' 'male' 'male'\n",
      " 'female' 'male' 'male' 'male' 'male' 'female' 'male' 'male' 'male' 'male'\n",
      " 'female' 'female' 'male' 'male' 'male' 'male' 'female' 'male' 'male'\n",
      " 'male' 'male' 'female' 'male' 'male' 'female' 'male' 'male' 'male'\n",
      " 'female' 'male' 'female' 'male' 'male' 'male' 'female' 'male' 'female'\n",
      " 'male' 'female' 'female' 'male' 'male' 'female' 'female' 'male' 'male'\n",
      " 'male' 'male' 'male' 'female' 'male' 'male' 'female' 'male' 'male'\n",
      " 'female' 'male' 'male' 'male' 'female' 'female' 'male' 'female' 'male'\n",
      " 'male' 'male' 'male' 'male' 'male' 'male' 'male' 'male' 'male' 'female'\n",
      " 'female' 'male' 'male' 'female' 'male' 'female' 'male' 'female' 'male'\n",
      " 'male' 'female' 'female' 'male' 'male' 'male' 'male' 'female' 'female'\n",
      " 'male' 'male' 'male' 'female' 'male' 'male' 'female' 'female' 'female'\n",
      " 'female' 'female' 'female' 'male' 'male' 'male' 'male' 'female' 'male'\n",
      " 'male' 'male' 'female' 'female' 'male' 'male' 'female' 'male' 'female'\n",
      " 'female' 'female' 'male' 'male' 'female' 'male' 'male' 'male' 'male'\n",
      " 'male' 'male' 'male' 'male' 'male' 'female' 'female' 'female' 'male'\n",
      " 'female' 'male' 'male' 'male' 'female' 'male' 'female' 'female' 'male'\n",
      " 'male' 'female' 'male' 'male' 'female' 'female' 'male' 'female' 'female'\n",
      " 'female' 'female' 'male' 'male' 'female' 'female' 'male' 'female'\n",
      " 'female' 'male' 'male' 'female' 'female' 'male' 'female' 'male' 'female'\n",
      " 'female' 'female' 'female' 'male' 'male' 'male' 'female' 'male' 'male'\n",
      " 'female' 'male' 'male' 'male' 'female' 'male' 'male' 'male' 'female'\n",
      " 'female' 'female' 'male' 'male' 'male' 'male' 'male' 'male' 'male' 'male'\n",
      " 'female' 'female' 'female' 'female' 'male' 'male' 'female' 'male' 'male'\n",
      " 'male' 'female' 'female' 'female' 'female' 'male' 'male' 'male' 'male'\n",
      " 'female' 'female' 'female' 'male' 'male' 'male' 'female' 'female' 'male'\n",
      " 'female' 'male' 'male' 'male' 'female' 'male' 'female' 'male' 'male'\n",
      " 'male' 'female' 'female' 'male' 'female' 'male' 'male' 'female' 'male'\n",
      " 'male' 'female' 'male' 'female' 'male' 'male' 'male' 'male' 'female'\n",
      " 'male' 'male' 'female' 'male' 'male' 'female' 'female' 'female' 'male'\n",
      " 'female' 'male' 'male' 'male' 'female' 'male' 'male' 'female' 'female'\n",
      " 'male' 'male' 'male' 'female' 'female' 'male' 'male' 'female' 'female'\n",
      " 'female' 'male' 'male' 'female' 'male' 'male' 'female' 'male' 'male'\n",
      " 'female' 'male' 'female' 'male' 'male' 'male' 'male' 'male' 'male' 'male'\n",
      " 'male' 'female' 'female' 'male' 'male' 'male' 'male' 'male' 'male' 'male'\n",
      " 'male' 'male' 'male' 'female' 'male' 'male' 'female' 'female' 'female'\n",
      " 'male' 'male' 'male' 'male' 'female' 'male' 'male' 'male' 'female' 'male'\n",
      " 'female' 'female' 'male' 'male' 'male' 'male' 'male' 'male' 'male' 'male'\n",
      " 'male' 'female' 'male' 'female' 'male' 'male' 'female' 'female' 'female'\n",
      " 'female' 'male' 'female' 'male' 'male' 'male' 'male' 'male' 'male'\n",
      " 'female' 'male' 'male' 'female' 'male' 'female' 'male' 'female' 'male'\n",
      " 'male' 'female' 'male' 'male' 'female' 'male' 'male' 'male' 'female'\n",
      " 'male' 'male' 'female' 'female' 'female' 'male' 'female' 'male' 'female'\n",
      " 'female' 'female' 'female' 'male' 'male' 'male' 'female' 'male' 'male'\n",
      " 'male' 'male' 'male' 'male' 'male' 'female' 'male' 'female' 'male'\n",
      " 'female' 'female' 'male' 'male' 'male' 'male' 'female' 'male' 'male'\n",
      " 'female' 'male' 'male' 'male' 'female' 'male' 'female' 'male' 'male'\n",
      " 'female' 'female' 'female' 'male' 'female' 'female' 'male' 'male' 'male'\n",
      " 'female' 'male' 'male' 'male' 'male' 'male' 'female' 'male' 'female'\n",
      " 'male' 'male' 'female' 'male' 'male' 'male' 'female' 'male' 'male' 'male'\n",
      " 'male' 'male' 'male' 'male' 'female' 'female' 'female' 'male' 'female'\n",
      " 'male' 'male' 'female' 'male' 'female' 'female' 'male' 'male' 'male'\n",
      " 'male' 'male' 'male' 'male' 'male' 'female' 'male' 'male' 'male' 'male'\n",
      " 'male' 'male' 'female' 'female' 'male' 'male' 'female' 'male' 'male'\n",
      " 'female' 'female' 'male' 'female' 'male' 'male' 'male' 'male' 'female'\n",
      " 'male' 'female' 'male' 'female' 'female' 'male' 'male' 'female' 'male'\n",
      " 'male' 'male' 'male' 'male' 'male' 'male' 'male' 'male' 'male' 'male'\n",
      " 'female' 'female' 'male' 'male' 'male' 'male' 'male' 'male' 'female'\n",
      " 'female' 'male' 'female' 'male' 'male' 'male' 'male' 'male' 'male' 'male'\n",
      " 'male' 'female' 'male' 'female' 'male' 'male' 'male' 'male' 'male'\n",
      " 'female' 'male' 'male' 'female' 'male' 'female' 'male' 'male' 'male'\n",
      " 'female' 'male' 'female' 'male' 'female' 'male' 'male' 'male' 'male'\n",
      " 'male' 'female' 'female' 'male' 'male' 'female' 'male' 'male' 'male'\n",
      " 'male' 'male' 'female' 'female' 'male' 'female' 'female' 'male' 'male'\n",
      " 'male' 'male' 'male' 'female' 'male' 'male' 'male' 'male' 'male' 'female'\n",
      " 'male' 'male' 'male' 'male' 'female' 'male' 'male' 'female' 'male' 'male'\n",
      " 'male' 'female' 'male' 'male' 'male' 'male' 'female' 'male' 'male' 'male'\n",
      " 'female' 'male' 'female' 'male' 'female' 'male' 'male' 'male' 'male'\n",
      " 'female' 'male' 'female' 'male' 'male' 'female' 'male' 'female' 'female'\n",
      " 'female' 'male' 'male' 'male' 'male' 'female' 'male' 'male' 'male' 'male'\n",
      " 'male' 'female' 'male' 'male' 'male' 'female' 'female' 'male' 'female'\n",
      " 'male' 'female' 'male' 'male' 'male' 'male' 'male' 'female' 'male'\n",
      " 'female' 'male' 'male' 'male' 'female' 'male' 'male' 'female' 'male'\n",
      " 'male' 'male' 'female' 'male' 'male' 'female' 'male' 'male' 'male' 'male'\n",
      " 'male' 'female' 'female' 'male' 'male' 'male' 'male' 'female' 'male'\n",
      " 'male' 'male' 'male' 'male' 'male' 'female' 'male' 'male' 'male' 'male'\n",
      " 'male' 'male' 'female' 'male' 'male' 'female' 'female' 'female' 'female'\n",
      " 'female' 'male' 'female' 'male' 'male' 'male' 'female' 'female' 'male'\n",
      " 'female' 'female' 'male' 'male' 'male' 'male' 'female' 'male' 'male'\n",
      " 'female' 'female' 'male' 'male' 'male' 'female' 'female' 'male' 'female'\n",
      " 'male' 'male' 'female' 'male' 'female' 'female' 'male' 'male']\n"
     ]
    }
   ],
   "source": [
    "y = titanic_csv.iloc[:,4].values\n",
    "print(y)"
   ]
  },
  {
   "cell_type": "code",
   "execution_count": 9,
   "id": "662ea843-d9de-4da6-b94e-41a28e5af2b9",
   "metadata": {},
   "outputs": [
    {
     "data": {
      "text/plain": [
       "array([[625,   0,   3],\n",
       "       [552,   0,   2],\n",
       "       [378,   0,   1],\n",
       "       ...,\n",
       "       [146,   0,   2],\n",
       "       [792,   0,   2],\n",
       "       [100,   0,   2]], dtype=int64)"
      ]
     },
     "execution_count": 9,
     "metadata": {},
     "output_type": "execute_result"
    }
   ],
   "source": [
    "#spliting the dataset \n",
    "\n",
    "x_train, x_test, y_train, y_test = train_test_split(x, y, test_size=0.2, random_state = 108)\n",
    "x_train"
   ]
  },
  {
   "cell_type": "code",
   "execution_count": 10,
   "id": "e7a5c502-379d-4ffc-a9e6-ecf0749695c9",
   "metadata": {},
   "outputs": [
    {
     "data": {
      "text/plain": [
       "array([[848,   0,   3],\n",
       "       [465,   0,   3],\n",
       "       [ 42,   0,   2],\n",
       "       [140,   0,   1],\n",
       "       [657,   0,   3],\n",
       "       [870,   1,   3],\n",
       "       [781,   1,   3],\n",
       "       [467,   0,   2],\n",
       "       [ 76,   0,   3],\n",
       "       [554,   1,   3],\n",
       "       [ 41,   0,   3],\n",
       "       [ 75,   1,   3],\n",
       "       [567,   0,   3],\n",
       "       [180,   0,   3],\n",
       "       [603,   0,   1],\n",
       "       [549,   0,   3],\n",
       "       [372,   0,   3],\n",
       "       [ 90,   0,   3],\n",
       "       [281,   0,   3],\n",
       "       [678,   1,   3],\n",
       "       [797,   1,   1],\n",
       "       [ 58,   0,   3],\n",
       "       [419,   0,   2],\n",
       "       [673,   0,   2],\n",
       "       [451,   0,   2],\n",
       "       [520,   0,   3],\n",
       "       [296,   0,   1],\n",
       "       [381,   1,   1],\n",
       "       [531,   1,   2],\n",
       "       [411,   0,   3],\n",
       "       [794,   0,   1],\n",
       "       [329,   1,   3],\n",
       "       [385,   0,   3],\n",
       "       [824,   1,   3],\n",
       "       [157,   1,   3],\n",
       "       [555,   1,   3],\n",
       "       [432,   1,   3],\n",
       "       [814,   0,   3],\n",
       "       [110,   1,   3],\n",
       "       [721,   1,   2],\n",
       "       [327,   0,   3],\n",
       "       [476,   0,   1],\n",
       "       [769,   0,   3],\n",
       "       [379,   0,   3],\n",
       "       [423,   0,   3],\n",
       "       [271,   0,   1],\n",
       "       [238,   1,   2],\n",
       "       [843,   1,   1],\n",
       "       [188,   1,   1],\n",
       "       [775,   1,   2],\n",
       "       [886,   0,   3],\n",
       "       [639,   0,   3],\n",
       "       [569,   0,   3],\n",
       "       [869,   0,   3],\n",
       "       [ 84,   0,   1],\n",
       "       [263,   0,   1],\n",
       "       [409,   0,   3],\n",
       "       [661,   1,   1],\n",
       "       [804,   1,   3],\n",
       "       [834,   0,   3],\n",
       "       [ 56,   1,   1],\n",
       "       [782,   1,   1],\n",
       "       [642,   1,   1],\n",
       "       [852,   0,   3],\n",
       "       [240,   0,   2],\n",
       "       [  1,   0,   3],\n",
       "       [401,   1,   3],\n",
       "       [201,   0,   3],\n",
       "       [112,   0,   3],\n",
       "       [426,   0,   3],\n",
       "       [842,   0,   2],\n",
       "       [193,   1,   3],\n",
       "       [ 83,   1,   3],\n",
       "       [776,   0,   3],\n",
       "       [273,   1,   2],\n",
       "       [111,   0,   1],\n",
       "       [858,   1,   1],\n",
       "       [489,   0,   3],\n",
       "       [173,   1,   3],\n",
       "       [536,   1,   2],\n",
       "       [609,   1,   2],\n",
       "       [610,   1,   1],\n",
       "       [505,   1,   1],\n",
       "       [840,   1,   1],\n",
       "       [526,   0,   3],\n",
       "       [670,   1,   1],\n",
       "       [387,   0,   3],\n",
       "       [701,   1,   1],\n",
       "       [763,   1,   3],\n",
       "       [412,   0,   3],\n",
       "       [791,   0,   3],\n",
       "       [723,   0,   2],\n",
       "       [291,   1,   1],\n",
       "       [523,   0,   3],\n",
       "       [732,   0,   3],\n",
       "       [249,   1,   1],\n",
       "       [251,   0,   3],\n",
       "       [812,   0,   3],\n",
       "       [163,   0,   3],\n",
       "       [705,   0,   3],\n",
       "       [311,   1,   1],\n",
       "       [243,   0,   2],\n",
       "       [223,   0,   3],\n",
       "       [761,   0,   3],\n",
       "       [860,   0,   3],\n",
       "       [551,   1,   1],\n",
       "       [498,   0,   3],\n",
       "       [826,   0,   3],\n",
       "       [429,   0,   3],\n",
       "       [608,   1,   1],\n",
       "       [684,   0,   3],\n",
       "       [154,   0,   3],\n",
       "       [ 70,   0,   3],\n",
       "       [672,   0,   1],\n",
       "       [658,   0,   3],\n",
       "       [780,   1,   1],\n",
       "       [388,   1,   2],\n",
       "       [631,   1,   1],\n",
       "       [ 88,   0,   3],\n",
       "       [370,   1,   1],\n",
       "       [324,   1,   2],\n",
       "       [490,   1,   3],\n",
       "       [832,   1,   2],\n",
       "       [659,   0,   2],\n",
       "       [542,   0,   3],\n",
       "       [686,   0,   2],\n",
       "       [108,   1,   3],\n",
       "       [113,   0,   3],\n",
       "       [ 14,   0,   3],\n",
       "       [361,   0,   3],\n",
       "       [621,   0,   3],\n",
       "       [195,   1,   1],\n",
       "       [494,   0,   1],\n",
       "       [585,   0,   3],\n",
       "       [360,   1,   3],\n",
       "       [728,   1,   3],\n",
       "       [800,   0,   3],\n",
       "       [354,   0,   3],\n",
       "       [ 66,   1,   3],\n",
       "       [ 30,   0,   3],\n",
       "       [ 22,   1,   2],\n",
       "       [121,   0,   2],\n",
       "       [ 99,   1,   2],\n",
       "       [540,   1,   1],\n",
       "       [ 73,   0,   2],\n",
       "       [765,   0,   3],\n",
       "       [515,   0,   3],\n",
       "       [  8,   0,   3],\n",
       "       [767,   0,   1],\n",
       "       [ 78,   0,   3],\n",
       "       [106,   0,   3],\n",
       "       [707,   1,   2],\n",
       "       [656,   0,   2],\n",
       "       [697,   0,   3],\n",
       "       [557,   1,   1],\n",
       "       [343,   0,   2],\n",
       "       [ 16,   1,   2],\n",
       "       [717,   1,   1],\n",
       "       [796,   0,   2],\n",
       "       [150,   0,   2],\n",
       "       [473,   1,   2],\n",
       "       [643,   0,   3],\n",
       "       [527,   1,   2],\n",
       "       [178,   0,   1],\n",
       "       [744,   0,   3],\n",
       "       [222,   0,   2],\n",
       "       [131,   0,   3],\n",
       "       [784,   0,   3],\n",
       "       [650,   1,   3],\n",
       "       [529,   0,   3],\n",
       "       [736,   0,   3],\n",
       "       [535,   0,   3],\n",
       "       [205,   1,   3],\n",
       "       [539,   0,   3],\n",
       "       [580,   1,   3],\n",
       "       [573,   1,   1],\n",
       "       [816,   0,   1],\n",
       "       [889,   0,   3],\n",
       "       [416,   0,   3]], dtype=int64)"
      ]
     },
     "execution_count": 10,
     "metadata": {},
     "output_type": "execute_result"
    }
   ],
   "source": [
    "x_test"
   ]
  },
  {
   "cell_type": "code",
   "execution_count": 11,
   "id": "5cfe3407-cd3e-47d6-b986-9de69db287ab",
   "metadata": {},
   "outputs": [
    {
     "data": {
      "text/plain": [
       "array(['male', 'male', 'male', 'male', 'female', 'male', 'male', 'male',\n",
       "       'male', 'male', 'male', 'female', 'male', 'female', 'female',\n",
       "       'female', 'female', 'male', 'male', 'female', 'female', 'male',\n",
       "       'male', 'female', 'male', 'male', 'male', 'male', 'male', 'male',\n",
       "       'male', 'female', 'female', 'female', 'male', 'male', 'male',\n",
       "       'male', 'female', 'male', 'male', 'male', 'male', 'male', 'male',\n",
       "       'male', 'male', 'male', 'male', 'male', 'male', 'male', 'male',\n",
       "       'male', 'male', 'female', 'female', 'male', 'male', 'male',\n",
       "       'female', 'female', 'male', 'male', 'male', 'male', 'male', 'male',\n",
       "       'male', 'male', 'male', 'male', 'female', 'male', 'male', 'female',\n",
       "       'female', 'male', 'female', 'male', 'male', 'female', 'male',\n",
       "       'male', 'male', 'female', 'female', 'female', 'female', 'male',\n",
       "       'male', 'male', 'female', 'male', 'female', 'male', 'male', 'male',\n",
       "       'male', 'female', 'male', 'male', 'male', 'female', 'male',\n",
       "       'female', 'female', 'female', 'female', 'female', 'female', 'male',\n",
       "       'male', 'male', 'male', 'female', 'male', 'female', 'male', 'male',\n",
       "       'male', 'female', 'male', 'male', 'male', 'male', 'male', 'female',\n",
       "       'male', 'female', 'female', 'female', 'female', 'male', 'male',\n",
       "       'female', 'male', 'male', 'male', 'female', 'female', 'male',\n",
       "       'male', 'female', 'male', 'male', 'female', 'male', 'female',\n",
       "       'male', 'female', 'male', 'male', 'male', 'male', 'male', 'female',\n",
       "       'female', 'male', 'female', 'male', 'female', 'male', 'male',\n",
       "       'male', 'male', 'female', 'male', 'male', 'male', 'male', 'female',\n",
       "       'female', 'female', 'female', 'female', 'male', 'male', 'male',\n",
       "       'female', 'male', 'male', 'female', 'female', 'male', 'female',\n",
       "       'female', 'female', 'male', 'male', 'male', 'male', 'female',\n",
       "       'male', 'female', 'male', 'male', 'male', 'male', 'female',\n",
       "       'female', 'male', 'male', 'female', 'male', 'female', 'male',\n",
       "       'female', 'female', 'male', 'female', 'male', 'male', 'male',\n",
       "       'female', 'female', 'female', 'male', 'female', 'male', 'male',\n",
       "       'male', 'female', 'male', 'male', 'female', 'female', 'male',\n",
       "       'male', 'male', 'male', 'female', 'female', 'male', 'male',\n",
       "       'female', 'male', 'male', 'female', 'male', 'male', 'female',\n",
       "       'male', 'female', 'female', 'male', 'male', 'male', 'male',\n",
       "       'female', 'male', 'male', 'male', 'female', 'male', 'male', 'male',\n",
       "       'male', 'male', 'female', 'male', 'female', 'female', 'male',\n",
       "       'male', 'male', 'male', 'male', 'female', 'male', 'male', 'male',\n",
       "       'male', 'male', 'male', 'male', 'male', 'male', 'male', 'male',\n",
       "       'male', 'male', 'female', 'female', 'male', 'male', 'male',\n",
       "       'female', 'female', 'female', 'male', 'male', 'male', 'male',\n",
       "       'male', 'female', 'male', 'male', 'female', 'male', 'female',\n",
       "       'female', 'female', 'male', 'female', 'male', 'female', 'female',\n",
       "       'male', 'male', 'male', 'female', 'male', 'male', 'male', 'male',\n",
       "       'male', 'male', 'male', 'male', 'male', 'female', 'male', 'male',\n",
       "       'female', 'male', 'male', 'male', 'male', 'male', 'female', 'male',\n",
       "       'female', 'male', 'male', 'female', 'female', 'female', 'female',\n",
       "       'female', 'female', 'male', 'male', 'male', 'female', 'male',\n",
       "       'male', 'male', 'female', 'male', 'male', 'male', 'female', 'male',\n",
       "       'male', 'female', 'male', 'male', 'male', 'female', 'male',\n",
       "       'female', 'male', 'male', 'male', 'female', 'male', 'female',\n",
       "       'female', 'male', 'female', 'male', 'male', 'male', 'female',\n",
       "       'female', 'female', 'female', 'male', 'male', 'female', 'male',\n",
       "       'male', 'male', 'female', 'male', 'male', 'female', 'male', 'male',\n",
       "       'female', 'male', 'male', 'male', 'male', 'female', 'male', 'male',\n",
       "       'male', 'male', 'male', 'female', 'female', 'male', 'female',\n",
       "       'female', 'female', 'male', 'male', 'male', 'male', 'male', 'male',\n",
       "       'female', 'male', 'male', 'male', 'female', 'male', 'female',\n",
       "       'male', 'female', 'female', 'female', 'male', 'male', 'male',\n",
       "       'male', 'female', 'female', 'female', 'male', 'male', 'male',\n",
       "       'male', 'female', 'male', 'male', 'male', 'male', 'male', 'male',\n",
       "       'male', 'male', 'male', 'male', 'female', 'female', 'male', 'male',\n",
       "       'male', 'male', 'male', 'male', 'male', 'male', 'male', 'male',\n",
       "       'male', 'female', 'female', 'male', 'female', 'male', 'female',\n",
       "       'male', 'male', 'female', 'female', 'female', 'female', 'male',\n",
       "       'male', 'female', 'female', 'male', 'female', 'male', 'male',\n",
       "       'male', 'female', 'female', 'male', 'male', 'female', 'male',\n",
       "       'male', 'male', 'male', 'male', 'male', 'female', 'male', 'male',\n",
       "       'male', 'male', 'female', 'male', 'male', 'male', 'male', 'male',\n",
       "       'female', 'male', 'male', 'female', 'female', 'male', 'female',\n",
       "       'male', 'male', 'male', 'male', 'female', 'female', 'female',\n",
       "       'male', 'male', 'male', 'male', 'female', 'female', 'male', 'male',\n",
       "       'male', 'female', 'male', 'female', 'female', 'male', 'male',\n",
       "       'male', 'male', 'female', 'female', 'male', 'male', 'male', 'male',\n",
       "       'male', 'male', 'female', 'male', 'male', 'female', 'male', 'male',\n",
       "       'male', 'female', 'male', 'male', 'female', 'female', 'female',\n",
       "       'male', 'female', 'male', 'male', 'male', 'male', 'male', 'male',\n",
       "       'male', 'male', 'female', 'male', 'male', 'male', 'male', 'female',\n",
       "       'male', 'female', 'female', 'female', 'female', 'female', 'male',\n",
       "       'male', 'female', 'male', 'female', 'male', 'female', 'female',\n",
       "       'female', 'male', 'male', 'male', 'male', 'female', 'male', 'male',\n",
       "       'male', 'female', 'female', 'male', 'male', 'female', 'female',\n",
       "       'female', 'male', 'female', 'female', 'male', 'female', 'male',\n",
       "       'female', 'male', 'male', 'female', 'male', 'female', 'female',\n",
       "       'female', 'female', 'female', 'female', 'male', 'male', 'male',\n",
       "       'female', 'female', 'male', 'male', 'male', 'male', 'female',\n",
       "       'male', 'male', 'male', 'male', 'female', 'female', 'male', 'male',\n",
       "       'female', 'female', 'female', 'male', 'male', 'male', 'male',\n",
       "       'male', 'male', 'female', 'male', 'female', 'male', 'male', 'male',\n",
       "       'male', 'male', 'female', 'male', 'female', 'female', 'female',\n",
       "       'male', 'female', 'male', 'male', 'male', 'female', 'male',\n",
       "       'female', 'female', 'female', 'female', 'male', 'male', 'male',\n",
       "       'female', 'male', 'female', 'female', 'male', 'female', 'male',\n",
       "       'female', 'female', 'female', 'male', 'male', 'male', 'male',\n",
       "       'male', 'male', 'male', 'male', 'male', 'male', 'male', 'male',\n",
       "       'male', 'female', 'male', 'male', 'male', 'female', 'male',\n",
       "       'female', 'male', 'male', 'female', 'male', 'male', 'female',\n",
       "       'female', 'male', 'male', 'male', 'male'], dtype=object)"
      ]
     },
     "execution_count": 11,
     "metadata": {},
     "output_type": "execute_result"
    }
   ],
   "source": [
    "y_train"
   ]
  },
  {
   "cell_type": "code",
   "execution_count": 12,
   "id": "8f203da7-2b0b-4fa7-a59e-b8fc25b54db9",
   "metadata": {},
   "outputs": [
    {
     "data": {
      "text/plain": [
       "array(['male', 'male', 'female', 'male', 'male', 'male', 'female', 'male',\n",
       "       'male', 'male', 'female', 'male', 'male', 'male', 'male', 'male',\n",
       "       'male', 'male', 'male', 'female', 'female', 'male', 'male', 'male',\n",
       "       'male', 'male', 'male', 'female', 'female', 'male', 'male',\n",
       "       'female', 'male', 'female', 'female', 'female', 'female', 'female',\n",
       "       'female', 'female', 'male', 'male', 'male', 'male', 'male', 'male',\n",
       "       'female', 'female', 'male', 'female', 'female', 'female', 'male',\n",
       "       'male', 'male', 'male', 'male', 'male', 'male', 'male', 'male',\n",
       "       'female', 'female', 'male', 'male', 'male', 'male', 'male',\n",
       "       'female', 'male', 'male', 'female', 'female', 'male', 'female',\n",
       "       'male', 'male', 'male', 'female', 'female', 'female', 'female',\n",
       "       'female', 'male', 'male', 'female', 'male', 'female', 'male',\n",
       "       'male', 'male', 'male', 'female', 'male', 'male', 'male', 'male',\n",
       "       'male', 'male', 'male', 'female', 'male', 'male', 'male', 'male',\n",
       "       'male', 'male', 'male', 'male', 'male', 'male', 'male', 'male',\n",
       "       'male', 'female', 'female', 'female', 'male', 'male', 'female',\n",
       "       'female', 'male', 'male', 'male', 'female', 'male', 'male', 'male',\n",
       "       'male', 'male', 'male', 'female', 'male', 'male', 'female',\n",
       "       'female', 'female', 'male', 'male', 'male', 'male', 'male',\n",
       "       'female', 'female', 'male', 'male', 'male', 'male', 'male', 'male',\n",
       "       'male', 'female', 'male', 'male', 'female', 'male', 'female',\n",
       "       'female', 'male', 'male', 'female', 'female', 'female', 'female',\n",
       "       'male', 'male', 'male', 'male', 'female', 'male', 'male', 'female',\n",
       "       'male', 'male', 'male', 'male', 'male', 'female', 'female'],\n",
       "      dtype=object)"
      ]
     },
     "execution_count": 12,
     "metadata": {},
     "output_type": "execute_result"
    }
   ],
   "source": [
    "y_test"
   ]
  },
  {
   "cell_type": "code",
   "execution_count": 14,
   "id": "90679ffd-6668-4143-be41-e292d37128f8",
   "metadata": {},
   "outputs": [
    {
     "data": {
      "text/plain": [
       "PassengerId      0\n",
       "Survived         0\n",
       "Pclass           0\n",
       "Name             0\n",
       "Sex              0\n",
       "Age            177\n",
       "SibSp            0\n",
       "Parch            0\n",
       "Ticket           0\n",
       "Fare             0\n",
       "Cabin          687\n",
       "Embarked         2\n",
       "dtype: int64"
      ]
     },
     "execution_count": 14,
     "metadata": {},
     "output_type": "execute_result"
    }
   ],
   "source": [
    "#handling missing values\n",
    "\n",
    "missing_values = titanic_csv.isna().sum()\n",
    "missing_values "
   ]
  },
  {
   "cell_type": "code",
   "execution_count": 28,
   "id": "8dcd1cb2-8b02-4e16-bfc5-2debfbd45a99",
   "metadata": {},
   "outputs": [
    {
     "data": {
      "text/plain": [
       "array([1, 0, 0, 0, 1, 1, 1, 1, 0, 0, 0, 0, 1, 1, 0, 0, 1, 1, 0, 0, 1, 1,\n",
       "       0, 1, 0, 0, 1, 1, 0, 1, 1, 0, 0, 1, 1, 1, 1, 1, 0, 0, 0, 0, 1, 0,\n",
       "       0, 1, 1, 0, 1, 0, 1, 1, 0, 0, 1, 1, 0, 1, 0, 1, 1, 0, 1, 1, 1, 1,\n",
       "       0, 1, 0, 1, 1, 0, 1, 1, 1, 1, 1, 1, 1, 0, 1, 1, 0, 1, 0, 0, 1, 1,\n",
       "       0, 1, 1, 1, 1, 1, 1, 1, 1, 1, 0, 1, 0, 1, 1, 1, 1, 1, 0, 1, 1, 0,\n",
       "       1, 0, 1, 0, 0, 1, 1, 1, 1, 0, 1, 1, 1, 0, 1, 1, 1, 1, 0, 1, 1, 1,\n",
       "       0, 0, 1, 1, 0, 1, 1, 1, 0, 0, 0, 1, 1, 1, 1, 0, 1, 1, 1, 0, 1, 1,\n",
       "       1, 1, 0, 1, 1, 1, 1, 0, 1, 1, 1, 1, 0, 0, 1, 1, 1, 1, 0, 1, 1, 1,\n",
       "       1, 0, 1, 1, 0, 1, 1, 1, 0, 1, 0, 1, 1, 1, 0, 1, 0, 1, 0, 0, 1, 1,\n",
       "       0, 0, 1, 1, 1, 1, 1, 0, 1, 1, 0, 1, 1, 0, 1, 1, 1, 0, 0, 1, 0, 1,\n",
       "       1, 1, 1, 1, 1, 1, 1, 1, 1, 0, 0, 1, 1, 0, 1, 0, 1, 0, 1, 1, 0, 0,\n",
       "       1, 1, 1, 1, 0, 0, 1, 1, 1, 0, 1, 1, 0, 0, 0, 0, 0, 0, 1, 1, 1, 1,\n",
       "       0, 1, 1, 1, 0, 0, 1, 1, 0, 1, 0, 0, 0, 1, 1, 0, 1, 1, 1, 1, 1, 1,\n",
       "       1, 1, 1, 0, 0, 0, 1, 0, 1, 1, 1, 0, 1, 0, 0, 1, 1, 0, 1, 1, 0, 0,\n",
       "       1, 0, 0, 0, 0, 1, 1, 0, 0, 1, 0, 0, 1, 1, 0, 0, 1, 0, 1, 0, 0, 0,\n",
       "       0, 1, 1, 1, 0, 1, 1, 0, 1, 1, 1, 0, 1, 1, 1, 0, 0, 0, 1, 1, 1, 1,\n",
       "       1, 1, 1, 1, 0, 0, 0, 0, 1, 1, 0, 1, 1, 1, 0, 0, 0, 0, 1, 1, 1, 1,\n",
       "       0, 0, 0, 1, 1, 1, 0, 0, 1, 0, 1, 1, 1, 0, 1, 0, 1, 1, 1, 0, 0, 1,\n",
       "       0, 1, 1, 0, 1, 1, 0, 1, 0, 1, 1, 1, 1, 0, 1, 1, 0, 1, 1, 0, 0, 0,\n",
       "       1, 0, 1, 1, 1, 0, 1, 1, 0, 0, 1, 1, 1, 0, 0, 1, 1, 0, 0, 0, 1, 1,\n",
       "       0, 1, 1, 0, 1, 1, 0, 1, 0, 1, 1, 1, 1, 1, 1, 1, 1, 0, 0, 1, 1, 1,\n",
       "       1, 1, 1, 1, 1, 1, 1, 0, 1, 1, 0, 0, 0, 1, 1, 1, 1, 0, 1, 1, 1, 0,\n",
       "       1, 0, 0, 1, 1, 1, 1, 1, 1, 1, 1, 1, 0, 1, 0, 1, 1, 0, 0, 0, 0, 1,\n",
       "       0, 1, 1, 1, 1, 1, 1, 0, 1, 1, 0, 1, 0, 1, 0, 1, 1, 0, 1, 1, 0, 1,\n",
       "       1, 1, 0, 1, 1, 0, 0, 0, 1, 0, 1, 0, 0, 0, 0, 1, 1, 1, 0, 1, 1, 1,\n",
       "       1, 1, 1, 1, 0, 1, 0, 1, 0, 0, 1, 1, 1, 1, 0, 1, 1, 0, 1, 1, 1, 0,\n",
       "       1, 0, 1, 1, 0, 0, 0, 1, 0, 0, 1, 1, 1, 0, 1, 1, 1, 1, 1, 0, 1, 0,\n",
       "       1, 1, 0, 1, 1, 1, 0, 1, 1, 1, 1, 1, 1, 1, 0, 0, 0, 1, 0, 1, 1, 0,\n",
       "       1, 0, 0, 1, 1, 1, 1, 1, 1, 1, 1, 0, 1, 1, 1, 1, 1, 1, 0, 0, 1, 1,\n",
       "       0, 1, 1, 0, 0, 1, 0, 1, 1, 1, 1, 0, 1, 0, 1, 0, 0, 1, 1, 0, 1, 1,\n",
       "       1, 1, 1, 1, 1, 1, 1, 1, 1, 0, 0, 1, 1, 1, 1, 1, 1, 0, 0, 1, 0, 1,\n",
       "       1, 1, 1, 1, 1, 1, 1, 0, 1, 0, 1, 1, 1, 1, 1, 0, 1, 1, 0, 1, 0, 1,\n",
       "       1, 1, 0, 1, 0, 1, 0, 1, 1, 1, 1, 1, 0, 0, 1, 1, 0, 1, 1, 1, 1, 1,\n",
       "       0, 0, 1, 0, 0, 1, 1, 1, 1, 1, 0, 1, 1, 1, 1, 1, 0, 1, 1, 1, 1, 0,\n",
       "       1, 1, 0, 1, 1, 1, 0, 1, 1, 1, 1, 0, 1, 1, 1, 0, 1, 0, 1, 0, 1, 1,\n",
       "       1, 1, 0, 1, 0, 1, 1, 0, 1, 0, 0, 0, 1, 1, 1, 1, 0, 1, 1, 1, 1, 1,\n",
       "       0, 1, 1, 1, 0, 0, 1, 0, 1, 0, 1, 1, 1, 1, 1, 0, 1, 0, 1, 1, 1, 0,\n",
       "       1, 1, 0, 1, 1, 1, 0, 1, 1, 0, 1, 1, 1, 1, 1, 0, 0, 1, 1, 1, 1, 0,\n",
       "       1, 1, 1, 1, 1, 1, 0, 1, 1, 1, 1, 1, 1, 0, 1, 1, 0, 0, 0, 0, 0, 1,\n",
       "       0, 1, 1, 1, 0, 0, 1, 0, 0, 1, 1, 1, 1, 0, 1, 1, 0, 0, 1, 1, 1, 0,\n",
       "       0, 1, 0, 1, 1, 0, 1, 0, 0, 1, 1])"
      ]
     },
     "execution_count": 28,
     "metadata": {},
     "output_type": "execute_result"
    }
   ],
   "source": [
    "#transforming categorial variables into numerical representation\n",
    "\n",
    "LB = LabelEncoder()\n",
    "Y = LB.fit_transform(y)\n",
    "Y"
   ]
  },
  {
   "cell_type": "code",
   "execution_count": 17,
   "id": "a97f96bc-5572-4bd3-95b9-c810f0ace947",
   "metadata": {},
   "outputs": [
    {
     "data": {
      "text/html": [
       "<style>#sk-container-id-1 {color: black;}#sk-container-id-1 pre{padding: 0;}#sk-container-id-1 div.sk-toggleable {background-color: white;}#sk-container-id-1 label.sk-toggleable__label {cursor: pointer;display: block;width: 100%;margin-bottom: 0;padding: 0.3em;box-sizing: border-box;text-align: center;}#sk-container-id-1 label.sk-toggleable__label-arrow:before {content: \"▸\";float: left;margin-right: 0.25em;color: #696969;}#sk-container-id-1 label.sk-toggleable__label-arrow:hover:before {color: black;}#sk-container-id-1 div.sk-estimator:hover label.sk-toggleable__label-arrow:before {color: black;}#sk-container-id-1 div.sk-toggleable__content {max-height: 0;max-width: 0;overflow: hidden;text-align: left;background-color: #f0f8ff;}#sk-container-id-1 div.sk-toggleable__content pre {margin: 0.2em;color: black;border-radius: 0.25em;background-color: #f0f8ff;}#sk-container-id-1 input.sk-toggleable__control:checked~div.sk-toggleable__content {max-height: 200px;max-width: 100%;overflow: auto;}#sk-container-id-1 input.sk-toggleable__control:checked~label.sk-toggleable__label-arrow:before {content: \"▾\";}#sk-container-id-1 div.sk-estimator input.sk-toggleable__control:checked~label.sk-toggleable__label {background-color: #d4ebff;}#sk-container-id-1 div.sk-label input.sk-toggleable__control:checked~label.sk-toggleable__label {background-color: #d4ebff;}#sk-container-id-1 input.sk-hidden--visually {border: 0;clip: rect(1px 1px 1px 1px);clip: rect(1px, 1px, 1px, 1px);height: 1px;margin: -1px;overflow: hidden;padding: 0;position: absolute;width: 1px;}#sk-container-id-1 div.sk-estimator {font-family: monospace;background-color: #f0f8ff;border: 1px dotted black;border-radius: 0.25em;box-sizing: border-box;margin-bottom: 0.5em;}#sk-container-id-1 div.sk-estimator:hover {background-color: #d4ebff;}#sk-container-id-1 div.sk-parallel-item::after {content: \"\";width: 100%;border-bottom: 1px solid gray;flex-grow: 1;}#sk-container-id-1 div.sk-label:hover label.sk-toggleable__label {background-color: #d4ebff;}#sk-container-id-1 div.sk-serial::before {content: \"\";position: absolute;border-left: 1px solid gray;box-sizing: border-box;top: 0;bottom: 0;left: 50%;z-index: 0;}#sk-container-id-1 div.sk-serial {display: flex;flex-direction: column;align-items: center;background-color: white;padding-right: 0.2em;padding-left: 0.2em;position: relative;}#sk-container-id-1 div.sk-item {position: relative;z-index: 1;}#sk-container-id-1 div.sk-parallel {display: flex;align-items: stretch;justify-content: center;background-color: white;position: relative;}#sk-container-id-1 div.sk-item::before, #sk-container-id-1 div.sk-parallel-item::before {content: \"\";position: absolute;border-left: 1px solid gray;box-sizing: border-box;top: 0;bottom: 0;left: 50%;z-index: -1;}#sk-container-id-1 div.sk-parallel-item {display: flex;flex-direction: column;z-index: 1;position: relative;background-color: white;}#sk-container-id-1 div.sk-parallel-item:first-child::after {align-self: flex-end;width: 50%;}#sk-container-id-1 div.sk-parallel-item:last-child::after {align-self: flex-start;width: 50%;}#sk-container-id-1 div.sk-parallel-item:only-child::after {width: 0;}#sk-container-id-1 div.sk-dashed-wrapped {border: 1px dashed gray;margin: 0 0.4em 0.5em 0.4em;box-sizing: border-box;padding-bottom: 0.4em;background-color: white;}#sk-container-id-1 div.sk-label label {font-family: monospace;font-weight: bold;display: inline-block;line-height: 1.2em;}#sk-container-id-1 div.sk-label-container {text-align: center;}#sk-container-id-1 div.sk-container {/* jupyter's `normalize.less` sets `[hidden] { display: none; }` but bootstrap.min.css set `[hidden] { display: none !important; }` so we also need the `!important` here to be able to override the default hidden behavior on the sphinx rendered scikit-learn.org. See: https://github.com/scikit-learn/scikit-learn/issues/21755 */display: inline-block !important;position: relative;}#sk-container-id-1 div.sk-text-repr-fallback {display: none;}</style><div id=\"sk-container-id-1\" class=\"sk-top-container\"><div class=\"sk-text-repr-fallback\"><pre>KNeighborsClassifier()</pre><b>In a Jupyter environment, please rerun this cell to show the HTML representation or trust the notebook. <br />On GitHub, the HTML representation is unable to render, please try loading this page with nbviewer.org.</b></div><div class=\"sk-container\" hidden><div class=\"sk-item\"><div class=\"sk-estimator sk-toggleable\"><input class=\"sk-toggleable__control sk-hidden--visually\" id=\"sk-estimator-id-1\" type=\"checkbox\" checked><label for=\"sk-estimator-id-1\" class=\"sk-toggleable__label sk-toggleable__label-arrow\">KNeighborsClassifier</label><div class=\"sk-toggleable__content\"><pre>KNeighborsClassifier()</pre></div></div></div></div></div>"
      ],
      "text/plain": [
       "KNeighborsClassifier()"
      ]
     },
     "execution_count": 17,
     "metadata": {},
     "output_type": "execute_result"
    }
   ],
   "source": [
    "#implementing the classification\n",
    "\n",
    "knn = KNeighborsClassifier()\n",
    "model = knn.fit(x_train, y_train)\n",
    "model"
   ]
  },
  {
   "cell_type": "code",
   "execution_count": 18,
   "id": "d127872e-bd46-4e38-80f2-3047340ad3e0",
   "metadata": {},
   "outputs": [
    {
     "data": {
      "text/plain": [
       "array(['male', 'male', 'female', 'female', 'male', 'male', 'male', 'male',\n",
       "       'male', 'male', 'female', 'male', 'male', 'male', 'male', 'male',\n",
       "       'male', 'male', 'male', 'male', 'male', 'male', 'female', 'male',\n",
       "       'male', 'female', 'male', 'male', 'male', 'male', 'male', 'female',\n",
       "       'male', 'male', 'male', 'male', 'male', 'male', 'female', 'male',\n",
       "       'female', 'male', 'male', 'female', 'male', 'male', 'male', 'male',\n",
       "       'male', 'male', 'male', 'male', 'male', 'female', 'male', 'male',\n",
       "       'male', 'male', 'male', 'male', 'female', 'male', 'male', 'female',\n",
       "       'female', 'female', 'male', 'male', 'male', 'female', 'male',\n",
       "       'male', 'female', 'male', 'female', 'female', 'female', 'male',\n",
       "       'male', 'male', 'male', 'male', 'female', 'male', 'male', 'male',\n",
       "       'male', 'male', 'female', 'male', 'male', 'male', 'male', 'female',\n",
       "       'male', 'female', 'male', 'male', 'male', 'male', 'female', 'male',\n",
       "       'male', 'male', 'female', 'male', 'male', 'male', 'male', 'male',\n",
       "       'male', 'male', 'female', 'male', 'male', 'male', 'male', 'male',\n",
       "       'female', 'female', 'male', 'male', 'male', 'male', 'male', 'male',\n",
       "       'male', 'male', 'female', 'female', 'male', 'male', 'male', 'male',\n",
       "       'female', 'male', 'male', 'male', 'male', 'male', 'female', 'male',\n",
       "       'male', 'female', 'male', 'female', 'male', 'male', 'female',\n",
       "       'male', 'male', 'male', 'female', 'male', 'male', 'male', 'male',\n",
       "       'male', 'male', 'male', 'female', 'male', 'male', 'male', 'male',\n",
       "       'male', 'male', 'male', 'male', 'male', 'male', 'male', 'male',\n",
       "       'female', 'female', 'male', 'male', 'male', 'female'], dtype=object)"
      ]
     },
     "execution_count": 18,
     "metadata": {},
     "output_type": "execute_result"
    }
   ],
   "source": [
    "y_prediction = model.predict(x_test)\n",
    "y_prediction"
   ]
  },
  {
   "cell_type": "code",
   "execution_count": 19,
   "id": "96d6568e-a191-4c26-83a7-c9036fba0d6e",
   "metadata": {},
   "outputs": [
    {
     "data": {
      "text/plain": [
       "0.5921787709497207"
      ]
     },
     "execution_count": 19,
     "metadata": {},
     "output_type": "execute_result"
    }
   ],
   "source": [
    "knn.score(x_test, y_test)"
   ]
  },
  {
   "cell_type": "code",
   "execution_count": 21,
   "id": "debca1d0-e8ea-4ac6-83f6-521c4c66acdb",
   "metadata": {},
   "outputs": [
    {
     "data": {
      "text/plain": [
       "0.5921787709497207"
      ]
     },
     "execution_count": 21,
     "metadata": {},
     "output_type": "execute_result"
    }
   ],
   "source": [
    "#accuracy score\n",
    "\n",
    "accuracy_score(y_test, y_prediction)"
   ]
  },
  {
   "cell_type": "code",
   "execution_count": 33,
   "id": "4b6dd442-c1ba-46f4-b761-9ddebc85709b",
   "metadata": {},
   "outputs": [
    {
     "data": {
      "text/plain": [
       "array([[13, 46],\n",
       "       [27, 93]], dtype=int64)"
      ]
     },
     "execution_count": 33,
     "metadata": {},
     "output_type": "execute_result"
    }
   ],
   "source": [
    "#confusion matrix\n",
    "\n",
    "cm = confusion_matrix(y_test, y_prediction)\n",
    "cm"
   ]
  },
  {
   "cell_type": "code",
   "execution_count": 23,
   "id": "35105f74-9e4e-4942-b906-0db6424ed9b1",
   "metadata": {},
   "outputs": [
    {
     "data": {
      "text/plain": [
       "0.5556579317551544"
      ]
     },
     "execution_count": 23,
     "metadata": {},
     "output_type": "execute_result"
    }
   ],
   "source": [
    "#precision score\n",
    "\n",
    "precision_score(y_test, y_prediction, average = 'weighted')"
   ]
  },
  {
   "cell_type": "code",
   "execution_count": 24,
   "id": "84212902-5c92-434c-967d-f03bcc316ff6",
   "metadata": {},
   "outputs": [
    {
     "data": {
      "text/plain": [
       "0.5921787709497207"
      ]
     },
     "execution_count": 24,
     "metadata": {},
     "output_type": "execute_result"
    }
   ],
   "source": [
    "#recall score\n",
    "\n",
    "recall_score(y_test, y_prediction, average = 'weighted')"
   ]
  },
  {
   "cell_type": "code",
   "execution_count": 25,
   "id": "7876d55b-19d7-49d3-9f7d-3d45f5777cdf",
   "metadata": {},
   "outputs": [
    {
     "data": {
      "text/plain": [
       "0.5680031043159535"
      ]
     },
     "execution_count": 25,
     "metadata": {},
     "output_type": "execute_result"
    }
   ],
   "source": [
    "#F1 score\n",
    "\n",
    "f1_score(y_test, y_prediction, average = 'weighted')"
   ]
  },
  {
   "cell_type": "code",
   "execution_count": 27,
   "id": "6152d1e5-9a7d-4e81-bf62-d869dfa429a7",
   "metadata": {},
   "outputs": [
    {
     "data": {
      "text/plain": [
       "'              precision    recall  f1-score   support\\n\\n      female       0.33      0.22      0.26        59\\n        male       0.67      0.78      0.72       120\\n\\n    accuracy                           0.59       179\\n   macro avg       0.50      0.50      0.49       179\\nweighted avg       0.56      0.59      0.57       179\\n'"
      ]
     },
     "execution_count": 27,
     "metadata": {},
     "output_type": "execute_result"
    }
   ],
   "source": [
    "#classification_report\n",
    "\n",
    "classification_report(y_test, y_prediction)"
   ]
  },
  {
   "cell_type": "code",
   "execution_count": 37,
   "id": "73f8b36f-b0b3-463f-91e7-b6e314865f50",
   "metadata": {},
   "outputs": [
    {
     "data": {
      "text/plain": [
       "<sklearn.metrics._plot.confusion_matrix.ConfusionMatrixDisplay at 0x1e1a0034e50>"
      ]
     },
     "execution_count": 37,
     "metadata": {},
     "output_type": "execute_result"
    },
    {
     "data": {
      "image/png": "[encoded data removed]",
      "text/plain": [
       "<Figure size 640x480 with 2 Axes>"
      ]
     },
     "metadata": {},
     "output_type": "display_data"
    }
   ],
   "source": [
    "#Plotting graph\n",
    "from sklearn.metrics import ConfusionMatrixDisplay\n",
    "display = ConfusionMatrixDisplay(confusion_matrix=cm)\n",
    "display.plot()"
   ]
  }
 ],
 "metadata": {
  "kernelspec": {
   "display_name": "Python 3 (ipykernel)",
   "language": "python",
   "name": "python3"
  },
  "language_info": {
   "codemirror_mode": {
    "name": "ipython",
    "version": 3
   },
   "file_extension": ".py",
   "mimetype": "text/x-python",
   "name": "python",
   "nbconvert_exporter": "python",
   "pygments_lexer": "ipython3",
   "version": "3.11.5"
  }
 },
 "nbformat": 4,
 "nbformat_minor": 5
}
